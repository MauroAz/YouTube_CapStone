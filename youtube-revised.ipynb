{
 "cells": [
  {
   "cell_type": "markdown",
   "metadata": {},
   "source": [
    "source: https://www.kaggle.com/hoonkeng/deep-analysis-on-youtube-trending-videos-eda/notebook\n"
   ]
  },
  {
   "cell_type": "code",
   "execution_count": 1,
   "metadata": {},
   "outputs": [],
   "source": [
    "import os\n",
    "import pandas as pd\n",
    "import seaborn as sns\n",
    "import matplotlib.pyplot as plt"
   ]
  },
  {
   "cell_type": "code",
   "execution_count": 2,
   "metadata": {},
   "outputs": [
    {
     "name": "stdout",
     "output_type": "stream",
     "text": [
      "/Users/mauroaz/Documents/Jupyter_AllFiles/Data_youtube_Notebook\r\n"
     ]
    }
   ],
   "source": [
    "!pwd"
   ]
  },
  {
   "cell_type": "code",
   "execution_count": null,
   "metadata": {},
   "outputs": [],
   "source": []
  },
  {
   "cell_type": "code",
   "execution_count": 4,
   "metadata": {},
   "outputs": [],
   "source": [
    "path = 'Data_youtube'\n",
    "filepath1 = os.path.join('..',path,'dataframe.csv') #if file is not in same dir as notebook, must change path\n",
    "filepath2 = os.path.join('..',path,'dataframe_all_timestamps.csv') #if file is not in same dir as notebook, must change path\n",
    "\n",
    "df = pd.read_csv(filepath1)\n",
    "df_all_timestamps = pd.read_csv(filepath2)"
   ]
  },
  {
   "cell_type": "code",
   "execution_count": 5,
   "metadata": {},
   "outputs": [],
   "source": [
    "def stringify(row):\n",
    "    return str(row['publish_date']) + ' ' + str(row['publish_time'])\n",
    "\n",
    "df_all_timestamps.loc[:,'string_date_time'] = \\\n",
    "                            df_all_timestamps.apply(stringify, axis=1)\n",
    "\n",
    "df_all_timestamps.loc[:,'publish_timestamp'] = \\\n",
    "                pd.to_datetime(df_all_timestamps['string_date_time'],\n",
    "                                infer_datetime_format=True,\n",
    "                                errors='coerce')\n",
    "\n",
    "df_all_timestamps = df_all_timestamps.drop('string_date_time', axis=1)\n",
    "\n",
    "\n",
    "#make a new column in df called 'publish_timestamp' \n",
    "#that is a datetime object\n",
    "\n",
    "df.loc[:,'string_date_time'] = df.apply(stringify, axis=1)\n",
    "df.loc[:,'publish_timestamp'] = \\\n",
    "                pd.to_datetime(df['string_date_time'],\n",
    "                                infer_datetime_format=True,\n",
    "                                errors='coerce')\n",
    "df = df.drop('string_date_time', axis=1)"
   ]
  },
  {
   "cell_type": "code",
   "execution_count": 6,
   "metadata": {},
   "outputs": [],
   "source": [
    "#optional\n",
    "# makes new columns by taking the logarithm of the views, likes, \n",
    "#dislikes and comment_count to compress the scale for easier graphing \n",
    "\n",
    "import numpy as np\n",
    "df.loc[:,'log_views'] = np.log(df.loc[:,'views']+1)\n",
    "df.loc[:,'log_likes'] = np.log(df.loc[:,'likes']+1)\n",
    "df.loc[:,'log_dislikes'] = np.log(df.loc[:,'dislikes']+1)\n",
    "df.loc[:,'log_comment_count'] = np.log(df.loc[:,'comment_count']+1)\n",
    "\n",
    "#show all columns\n",
    "pd.set_option('display.max_columns', 100)"
   ]
  },
  {
   "cell_type": "code",
   "execution_count": null,
   "metadata": {},
   "outputs": [],
   "source": []
  },
  {
   "cell_type": "code",
   "execution_count": 7,
   "metadata": {},
   "outputs": [
    {
     "name": "stdout",
     "output_type": "stream",
     "text": [
      "<class 'pandas.core.frame.DataFrame'>\n",
      "RangeIndex: 171149 entries, 0 to 171148\n",
      "Data columns (total 24 columns):\n",
      "video_id                  171149 non-null object\n",
      "trending_date             171149 non-null object\n",
      "title                     171149 non-null object\n",
      "channel_title             171149 non-null object\n",
      "category_id               171149 non-null int64\n",
      "category                  171149 non-null object\n",
      "publish_date              171149 non-null object\n",
      "publish_time              171149 non-null object\n",
      "tags                      171149 non-null object\n",
      "views                     171149 non-null int64\n",
      "likes                     171149 non-null int64\n",
      "dislikes                  171149 non-null int64\n",
      "comment_count             171149 non-null int64\n",
      "thumbnail_link            171149 non-null object\n",
      "comments_disabled         171149 non-null bool\n",
      "ratings_disabled          171149 non-null bool\n",
      "video_error_or_removed    171149 non-null bool\n",
      "description               171149 non-null object\n",
      "country                   171149 non-null object\n",
      "publish_timestamp         171149 non-null datetime64[ns]\n",
      "log_views                 171149 non-null float64\n",
      "log_likes                 171149 non-null float64\n",
      "log_dislikes              171149 non-null float64\n",
      "log_comment_count         171149 non-null float64\n",
      "dtypes: bool(3), datetime64[ns](1), float64(4), int64(5), object(11)\n",
      "memory usage: 27.9+ MB\n"
     ]
    }
   ],
   "source": [
    "df.info()"
   ]
  },
  {
   "cell_type": "code",
   "execution_count": 8,
   "metadata": {},
   "outputs": [
    {
     "name": "stdout",
     "output_type": "stream",
     "text": [
      "<class 'pandas.core.frame.DataFrame'>\n",
      "RangeIndex: 356350 entries, 0 to 356349\n",
      "Data columns (total 20 columns):\n",
      "video_id                  356350 non-null object\n",
      "trending_date             356350 non-null object\n",
      "title                     356350 non-null object\n",
      "channel_title             356350 non-null object\n",
      "category_id               356350 non-null int64\n",
      "category                  356350 non-null object\n",
      "publish_date              356350 non-null object\n",
      "publish_time              356350 non-null object\n",
      "tags                      356350 non-null object\n",
      "views                     356350 non-null int64\n",
      "likes                     356350 non-null int64\n",
      "dislikes                  356350 non-null int64\n",
      "comment_count             356350 non-null int64\n",
      "thumbnail_link            356350 non-null object\n",
      "comments_disabled         356350 non-null bool\n",
      "ratings_disabled          356350 non-null bool\n",
      "video_error_or_removed    356350 non-null bool\n",
      "description               356350 non-null object\n",
      "country                   356350 non-null object\n",
      "publish_timestamp         356350 non-null datetime64[ns]\n",
      "dtypes: bool(3), datetime64[ns](1), int64(5), object(11)\n",
      "memory usage: 47.2+ MB\n"
     ]
    }
   ],
   "source": [
    "df_all_timestamps.info()"
   ]
  },
  {
   "cell_type": "code",
   "execution_count": null,
   "metadata": {},
   "outputs": [],
   "source": []
  }
 ],
 "metadata": {
  "kernelspec": {
   "display_name": "Python 3",
   "language": "python",
   "name": "python3"
  },
  "language_info": {
   "codemirror_mode": {
    "name": "ipython",
    "version": 3
   },
   "file_extension": ".py",
   "mimetype": "text/x-python",
   "name": "python",
   "nbconvert_exporter": "python",
   "pygments_lexer": "ipython3",
   "version": "3.7.3"
  }
 },
 "nbformat": 4,
 "nbformat_minor": 2
}
